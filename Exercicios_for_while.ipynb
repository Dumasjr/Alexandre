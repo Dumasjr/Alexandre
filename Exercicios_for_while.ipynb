{
  "nbformat": 4,
  "nbformat_minor": 0,
  "metadata": {
    "colab": {
      "provenance": [],
      "authorship_tag": "ABX9TyPgdsjpE5Tl9/goT0U6Htji",
      "include_colab_link": true
    },
    "kernelspec": {
      "name": "python3",
      "display_name": "Python 3"
    },
    "language_info": {
      "name": "python"
    }
  },
  "cells": [
    {
      "cell_type": "markdown",
      "metadata": {
        "id": "view-in-github",
        "colab_type": "text"
      },
      "source": [
        "<a href=\"https://colab.research.google.com/github/Dumasjr/Alexandre/blob/master/Exercicios_for_while.ipynb\" target=\"_parent\"><img src=\"https://colab.research.google.com/assets/colab-badge.svg\" alt=\"Open In Colab\"/></a>"
      ]
    },
    {
      "cell_type": "code",
      "execution_count": null,
      "metadata": {
        "colab": {
          "base_uri": "https://localhost:8080/"
        },
        "id": "0TJV5WgAjiAk",
        "outputId": "0b3d0271-fb95-4934-e02e-8c49419033a7"
      },
      "outputs": [
        {
          "output_type": "stream",
          "name": "stdout",
          "text": [
            "O nome Pedro Martins está na lista\n"
          ]
        }
      ],
      "source": [
        "lista = 'Alexandre Dumas,José da Silva, Maria Oliveira, Pedro Martins, Ana Souza, Carlos Rodrigues, Juliana Santos, Bruno Gomes, Beatriz Costa, Felipe Almeida, Mariana Fernandes, João Pinto, Luísa Nascimento, Gabriel Souza, Manuela Santos, Thiago Oliveira, Sofia Ferreira, Rafael Albuquerque, Isabella Gomes, Bruno Costa, Maria Martins, Rafaela Souza, Matheus Fernandes, Luísa Almeida, Beatriz Pinto, Mariana Rodrigues, Gabriel Nascimento, João Ferreira, Maria Albuquerque, Felipe Oliveira'\n",
        "lista\n",
        "\n",
        "nome1= 'Alexandre Dumas'\n",
        "nome2= 'Pedro Martins'\n",
        "\n",
        "if nome1 in lista:\n",
        "  print(f'O nome {nome1} está na lista')\n",
        "elif nome2 in lista:\n",
        "  print(f'O nome {nome2} está na lista')\n",
        "else:\n",
        "  print('Nenhum nome está na lista')\n",
        "#"
      ]
    },
    {
      "cell_type": "code",
      "source": [
        "contador =1\n",
        "while contador <= 10:\n",
        "  print(contador)\n",
        "  contador += 1\n",
        "#"
      ],
      "metadata": {
        "colab": {
          "base_uri": "https://localhost:8080/"
        },
        "id": "nzO6EDKYT3kK",
        "outputId": "48a7c751-5c7d-4ac8-ae65-41e7508c710c"
      },
      "execution_count": null,
      "outputs": [
        {
          "output_type": "stream",
          "name": "stdout",
          "text": [
            "1\n",
            "2\n",
            "3\n",
            "4\n",
            "5\n",
            "6\n",
            "7\n",
            "8\n",
            "9\n",
            "10\n"
          ]
        }
      ]
    },
    {
      "cell_type": "code",
      "source": [
        "contador =1\n",
        "while contador <= 3:\n",
        "  nota1 = int(input('Entre com a nota 1: '))\n",
        "  nota2 = int(input('Entre com a nota 2: '))\n",
        "  media = (nota1 + nota2) / 2\n",
        "  print(f'A média é {media}')\n",
        "  contador += 1\n",
        "  print(contador)"
      ],
      "metadata": {
        "colab": {
          "base_uri": "https://localhost:8080/"
        },
        "id": "-69xpx9nULJY",
        "outputId": "8b69f316-ddba-4170-98c0-5d786e48495d"
      },
      "execution_count": null,
      "outputs": [
        {
          "output_type": "stream",
          "name": "stdout",
          "text": [
            "Entre com a nota 1: 9\n",
            "Entre com a nota 2: 4\n",
            "A média é 6.5\n",
            "2\n",
            "Entre com a nota 1: 9\n",
            "Entre com a nota 2: 8\n",
            "A média é 8.5\n",
            "3\n",
            "Entre com a nota 1: 7\n",
            "Entre com a nota 2: 6\n",
            "A média é 6.5\n",
            "4\n"
          ]
        }
      ]
    },
    {
      "cell_type": "code",
      "source": [
        "preco = 2.00\n",
        "preco += 4\n",
        "print(preco)"
      ],
      "metadata": {
        "colab": {
          "base_uri": "https://localhost:8080/"
        },
        "id": "weHFK8CSVUCX",
        "outputId": "01f09113-4abb-4c2a-877d-ad78234e1d24"
      },
      "execution_count": null,
      "outputs": [
        {
          "output_type": "stream",
          "name": "stdout",
          "text": [
            "6.0\n"
          ]
        }
      ]
    },
    {
      "cell_type": "code",
      "source": [
        "for contador in range(1,4):\n",
        "   nota1 = int(input('Entre com a nota 1: '))\n",
        "   nota2 = int(input('Entre com a nota 2: '))\n",
        "   media = (nota1 + nota2) / 2\n",
        "   print(f'A média é {media}')\n",
        "\n",
        "   print(contador)"
      ],
      "metadata": {
        "colab": {
          "base_uri": "https://localhost:8080/"
        },
        "id": "FL6W-BWKmAX9",
        "outputId": "96c8e44a-4cd8-4291-c5b6-8f0ecf889a74"
      },
      "execution_count": null,
      "outputs": [
        {
          "output_type": "stream",
          "name": "stdout",
          "text": [
            "Entre com a nota 1: 10\n",
            "Entre com a nota 2: 5\n",
            "A média é 7.5\n",
            "1\n",
            "Entre com a nota 1: 8\n",
            "Entre com a nota 2: 7\n",
            "A média é 7.5\n",
            "2\n",
            "Entre com a nota 1: 9\n",
            "Entre com a nota 2: 10\n",
            "A média é 9.5\n",
            "3\n"
          ]
        }
      ]
    },
    {
      "cell_type": "code",
      "source": [
        "for i in range(1,6):\n",
        "    if i == 4:\n",
        "        break\n",
        "    print(i)"
      ],
      "metadata": {
        "colab": {
          "base_uri": "https://localhost:8080/"
        },
        "id": "Uv2Cjy1_oR6a",
        "outputId": "588843ce-00c3-4d82-e558-ce0afc73e7b4"
      },
      "execution_count": null,
      "outputs": [
        {
          "output_type": "stream",
          "name": "stdout",
          "text": [
            "1\n",
            "2\n",
            "3\n"
          ]
        }
      ]
    },
    {
      "cell_type": "code",
      "source": [
        "for i in range(1,6):\n",
        "    if i == 4:\n",
        "        continue\n",
        "    print(i)"
      ],
      "metadata": {
        "colab": {
          "base_uri": "https://localhost:8080/"
        },
        "id": "XltTY_jcohP4",
        "outputId": "c9890511-0db9-4d36-b91a-4704f7e25d4d"
      },
      "execution_count": null,
      "outputs": [
        {
          "output_type": "stream",
          "name": "stdout",
          "text": [
            "1\n",
            "2\n",
            "3\n",
            "5\n"
          ]
        }
      ]
    },
    {
      "cell_type": "code",
      "source": [
        "numero = int(input('Entre com um número Fatorial: '))\n",
        "for i in range(1,5):\n",
        "    numero *= i\n",
        "    print(i)\n",
        "    print(f'Calculo Fatorial numero {numero} * {i}')\n",
        "print(numero)\n",
        "#"
      ],
      "metadata": {
        "colab": {
          "base_uri": "https://localhost:8080/"
        },
        "id": "CKtj43f0qQEc",
        "outputId": "71b24752-d6af-459d-974c-a07cd9e94928"
      },
      "execution_count": null,
      "outputs": [
        {
          "output_type": "stream",
          "name": "stdout",
          "text": [
            "Entre com um número Fatorial: 5\n",
            "1\n",
            "Calculo Fatorial numero 5 * 1\n",
            "2\n",
            "Calculo Fatorial numero 10 * 2\n",
            "3\n",
            "Calculo Fatorial numero 30 * 3\n",
            "4\n",
            "Calculo Fatorial numero 120 * 4\n",
            "120\n"
          ]
        }
      ]
    },
    {
      "cell_type": "code",
      "source": [
        "#tabuada\n",
        "\n",
        "tabuada = int(input('Entre com um número da Tabuada: '))\n",
        "for i in range(1,11):\n",
        "    print(f'{tabuada} x {i} = {tabuada * i}')"
      ],
      "metadata": {
        "colab": {
          "base_uri": "https://localhost:8080/"
        },
        "id": "7wFDtbO_uYSP",
        "outputId": "f73f691f-3f04-4f9c-a834-39ce2bea7c79"
      },
      "execution_count": null,
      "outputs": [
        {
          "output_type": "stream",
          "name": "stdout",
          "text": [
            "Entre com um número da Tabuada: 9\n",
            "9 x 1 = 9\n",
            "9 x 2 = 18\n",
            "9 x 3 = 27\n",
            "9 x 4 = 36\n",
            "9 x 5 = 45\n",
            "9 x 6 = 54\n",
            "9 x 7 = 63\n",
            "9 x 8 = 72\n",
            "9 x 9 = 81\n",
            "9 x 10 = 90\n"
          ]
        }
      ]
    },
    {
      "cell_type": "code",
      "source": [
        "# Coletamos os valores de início e fim\n",
        "inicio = int(input('Insira o primeiro número inteiro: '))\n",
        "fim = int(input('Insira o segundo número inteiro: '))\n",
        "\n",
        "# Verificamos se o valor de início é maior que o fim\n",
        "if inicio < fim:\n",
        "  # podemos imprimir os inteiros entre o menor e o maior valor\n",
        "  for i in range(inicio + 1, fim):\n",
        "    print(i)\n",
        "elif inicio > fim:\n",
        "  for i in range(fim + 1, inicio):\n",
        "    print(i)\n",
        "else: #caso os números sejam iguais, não conseguimos imprimir sequência alguma\n",
        "  print('Os números são iguais.')"
      ],
      "metadata": {
        "colab": {
          "base_uri": "https://localhost:8080/"
        },
        "id": "QUM3t1FFzJG3",
        "outputId": "a6b92b8f-0c23-45a2-9fb1-d0f8ac578db4"
      },
      "execution_count": null,
      "outputs": [
        {
          "output_type": "stream",
          "name": "stdout",
          "text": [
            "Insira o primeiro número inteiro: 1\n",
            "Insira o segundo número inteiro: 3\n",
            "2\n"
          ]
        }
      ]
    },
    {
      "cell_type": "code",
      "source": [
        "# número inicial de bactérias\n",
        "colonia_a = 4\n",
        "colonia_b = 10\n",
        "\n",
        "# taxas de crescimento das colônias\n",
        "taxa_a = 0.03\n",
        "taxa_b = 0.015\n",
        "\n",
        "# contador de dias\n",
        "dias = 0\n",
        "\n",
        "# A condição que finaliza o laço é o caso em que\n",
        "# a colônia A ultrapasse a colônia B\n",
        "while colonia_a <= colonia_b:\n",
        "  # usamos um operador de atribuição com multiplicação\n",
        "  colonia_a *= 1 + taxa_a\n",
        "  print(f'Colônia A: {colonia_a:.2f}')\n",
        "\n",
        "  colonia_b *= 1 + taxa_b\n",
        "  print(f'Colônia B: {colonia_b:.2f}')\n",
        "  # contamos o dia para cada iteração\n",
        "  dias += 1\n",
        "\n",
        "# resultado final\n",
        "print(f'Irá levar {dias} dias para a colônia A ultrapassar a colônia B.')"
      ],
      "metadata": {
        "colab": {
          "base_uri": "https://localhost:8080/"
        },
        "id": "O0rTQhI-0m0w",
        "outputId": "e084c17d-f430-4af9-a95e-d47fe2bb6886"
      },
      "execution_count": null,
      "outputs": [
        {
          "output_type": "stream",
          "name": "stdout",
          "text": [
            "Colônia A: 4.12\n",
            "Colônia B: 10.15\n",
            "Colônia A: 4.24\n",
            "Colônia B: 10.30\n",
            "Colônia A: 4.37\n",
            "Colônia B: 10.46\n",
            "Colônia A: 4.50\n",
            "Colônia B: 10.61\n",
            "Colônia A: 4.64\n",
            "Colônia B: 10.77\n",
            "Colônia A: 4.78\n",
            "Colônia B: 10.93\n",
            "Colônia A: 4.92\n",
            "Colônia B: 11.10\n",
            "Colônia A: 5.07\n",
            "Colônia B: 11.26\n",
            "Colônia A: 5.22\n",
            "Colônia B: 11.43\n",
            "Colônia A: 5.38\n",
            "Colônia B: 11.61\n",
            "Colônia A: 5.54\n",
            "Colônia B: 11.78\n",
            "Colônia A: 5.70\n",
            "Colônia B: 11.96\n",
            "Colônia A: 5.87\n",
            "Colônia B: 12.14\n",
            "Colônia A: 6.05\n",
            "Colônia B: 12.32\n",
            "Colônia A: 6.23\n",
            "Colônia B: 12.50\n",
            "Colônia A: 6.42\n",
            "Colônia B: 12.69\n",
            "Colônia A: 6.61\n",
            "Colônia B: 12.88\n",
            "Colônia A: 6.81\n",
            "Colônia B: 13.07\n",
            "Colônia A: 7.01\n",
            "Colônia B: 13.27\n",
            "Colônia A: 7.22\n",
            "Colônia B: 13.47\n",
            "Colônia A: 7.44\n",
            "Colônia B: 13.67\n",
            "Colônia A: 7.66\n",
            "Colônia B: 13.88\n",
            "Colônia A: 7.89\n",
            "Colônia B: 14.08\n",
            "Colônia A: 8.13\n",
            "Colônia B: 14.30\n",
            "Colônia A: 8.38\n",
            "Colônia B: 14.51\n",
            "Colônia A: 8.63\n",
            "Colônia B: 14.73\n",
            "Colônia A: 8.89\n",
            "Colônia B: 14.95\n",
            "Colônia A: 9.15\n",
            "Colônia B: 15.17\n",
            "Colônia A: 9.43\n",
            "Colônia B: 15.40\n",
            "Colônia A: 9.71\n",
            "Colônia B: 15.63\n",
            "Colônia A: 10.00\n",
            "Colônia B: 15.87\n",
            "Colônia A: 10.30\n",
            "Colônia B: 16.10\n",
            "Colônia A: 10.61\n",
            "Colônia B: 16.34\n",
            "Colônia A: 10.93\n",
            "Colônia B: 16.59\n",
            "Colônia A: 11.26\n",
            "Colônia B: 16.84\n",
            "Colônia A: 11.59\n",
            "Colônia B: 17.09\n",
            "Colônia A: 11.94\n",
            "Colônia B: 17.35\n",
            "Colônia A: 12.30\n",
            "Colônia B: 17.61\n",
            "Colônia A: 12.67\n",
            "Colônia B: 17.87\n",
            "Colônia A: 13.05\n",
            "Colônia B: 18.14\n",
            "Colônia A: 13.44\n",
            "Colônia B: 18.41\n",
            "Colônia A: 13.84\n",
            "Colônia B: 18.69\n",
            "Colônia A: 14.26\n",
            "Colônia B: 18.97\n",
            "Colônia A: 14.69\n",
            "Colônia B: 19.25\n",
            "Colônia A: 15.13\n",
            "Colônia B: 19.54\n",
            "Colônia A: 15.58\n",
            "Colônia B: 19.84\n",
            "Colônia A: 16.05\n",
            "Colônia B: 20.13\n",
            "Colônia A: 16.53\n",
            "Colônia B: 20.43\n",
            "Colônia A: 17.02\n",
            "Colônia B: 20.74\n",
            "Colônia A: 17.54\n",
            "Colônia B: 21.05\n",
            "Colônia A: 18.06\n",
            "Colônia B: 21.37\n",
            "Colônia A: 18.60\n",
            "Colônia B: 21.69\n",
            "Colônia A: 19.16\n",
            "Colônia B: 22.01\n",
            "Colônia A: 19.74\n",
            "Colônia B: 22.34\n",
            "Colônia A: 20.33\n",
            "Colônia B: 22.68\n",
            "Colônia A: 20.94\n",
            "Colônia B: 23.02\n",
            "Colônia A: 21.57\n",
            "Colônia B: 23.36\n",
            "Colônia A: 22.21\n",
            "Colônia B: 23.72\n",
            "Colônia A: 22.88\n",
            "Colônia B: 24.07\n",
            "Colônia A: 23.57\n",
            "Colônia B: 24.43\n",
            "Colônia A: 24.27\n",
            "Colônia B: 24.80\n",
            "Colônia A: 25.00\n",
            "Colônia B: 25.17\n",
            "Colônia A: 25.75\n",
            "Colônia B: 25.55\n",
            "Irá levar 63 dias para a colônia A ultrapassar a colônia B.\n"
          ]
        }
      ]
    },
    {
      "cell_type": "code",
      "source": [
        "# Pedir o número\n",
        "num = int(input('Informe um número inteiro: '))\n",
        "\n",
        "# Inicializar o cálculo\n",
        "fatorial = 1\n",
        "\n",
        "# nosso contador inicializa com o número máximo\n",
        "# e será feita uma contagem decrescente com o operador -=\n",
        "i = num\n",
        "while i > 0:\n",
        "    # queremos multiplicar agora o valor do fatorial pelo num\n",
        "    # e todos os números abaixo dele até 1\n",
        "    fatorial *= i\n",
        "    i -= 1\n",
        "total = {num}*{i}\n",
        "print(f'Calculo Fatorial numero {total} * {i}')\n",
        "\n",
        "\n",
        "\n",
        "# Imprimir o cálculo do fatorial\n",
        "print(i)\n",
        "\n",
        "print(f'Fatorial de {num} é {fatorial}')"
      ],
      "metadata": {
        "colab": {
          "base_uri": "https://localhost:8080/",
          "height": 228
        },
        "id": "2Mo_5yCU2RDo",
        "outputId": "a496ad6b-c081-4d0b-9fc0-be07eaff0687"
      },
      "execution_count": null,
      "outputs": [
        {
          "name": "stdout",
          "output_type": "stream",
          "text": [
            "Informe um número inteiro: 5\n"
          ]
        },
        {
          "output_type": "error",
          "ename": "TypeError",
          "evalue": "unsupported operand type(s) for *: 'set' and 'set'",
          "traceback": [
            "\u001b[0;31m---------------------------------------------------------------------------\u001b[0m",
            "\u001b[0;31mTypeError\u001b[0m                                 Traceback (most recent call last)",
            "\u001b[0;32m<ipython-input-21-3d0368175666>\u001b[0m in \u001b[0;36m<cell line: 15>\u001b[0;34m()\u001b[0m\n\u001b[1;32m     13\u001b[0m     \u001b[0mfatorial\u001b[0m \u001b[0;34m*=\u001b[0m \u001b[0mi\u001b[0m\u001b[0;34m\u001b[0m\u001b[0;34m\u001b[0m\u001b[0m\n\u001b[1;32m     14\u001b[0m     \u001b[0mi\u001b[0m \u001b[0;34m-=\u001b[0m \u001b[0;36m1\u001b[0m\u001b[0;34m\u001b[0m\u001b[0;34m\u001b[0m\u001b[0m\n\u001b[0;32m---> 15\u001b[0;31m \u001b[0mtotal\u001b[0m \u001b[0;34m=\u001b[0m \u001b[0;34m{\u001b[0m\u001b[0mnum\u001b[0m\u001b[0;34m}\u001b[0m\u001b[0;34m*\u001b[0m\u001b[0;34m{\u001b[0m\u001b[0mi\u001b[0m\u001b[0;34m}\u001b[0m\u001b[0;34m\u001b[0m\u001b[0;34m\u001b[0m\u001b[0m\n\u001b[0m\u001b[1;32m     16\u001b[0m \u001b[0mprint\u001b[0m\u001b[0;34m(\u001b[0m\u001b[0;34mf'Calculo Fatorial numero {total} * {i}'\u001b[0m\u001b[0;34m)\u001b[0m\u001b[0;34m\u001b[0m\u001b[0;34m\u001b[0m\u001b[0m\n\u001b[1;32m     17\u001b[0m \u001b[0;34m\u001b[0m\u001b[0m\n",
            "\u001b[0;31mTypeError\u001b[0m: unsupported operand type(s) for *: 'set' and 'set'"
          ]
        }
      ]
    },
    {
      "cell_type": "code",
      "source": [
        "# Coletamos os valores de início e fim\n",
        "inicio = int(input('Insira o primeiro número inteiro: '))\n",
        "fim = int(input('Insira o segundo número inteiro: '))\n",
        "\n",
        "# Verificamos se o valor de início é maior que o fim\n",
        "if inicio < fim:\n",
        "  # podemos imprimir os inteiros entre o menor e o maior valor\n",
        "  for i in range(inicio + 1, fim):\n",
        "    print(i)\n",
        "elif inicio > fim:\n",
        "  for i in range(fim + 1, inicio):\n",
        "    print(i)\n",
        "else: #caso os números sejam iguais, não conseguimos imprimir sequência alguma\n",
        "  print('Os números são iguais.')"
      ],
      "metadata": {
        "colab": {
          "base_uri": "https://localhost:8080/"
        },
        "id": "Y4z9DH46OMG6",
        "outputId": "3b2b1015-075b-4805-8b83-3a341ef18e20"
      },
      "execution_count": 1,
      "outputs": [
        {
          "output_type": "stream",
          "name": "stdout",
          "text": [
            "Insira o primeiro número inteiro: 5\n",
            "Insira o segundo número inteiro: 8\n",
            "6\n",
            "7\n"
          ]
        }
      ]
    },
    {
      "cell_type": "code",
      "source": [
        "# laço para pegar as 15 notas\n",
        "for i in range(15):\n",
        "  nota = float(input(f'Insira a nota da pessoa usuária {i}: '))\n",
        "\n",
        "  # verifica se a nota está entre 0 e 5\n",
        "  # se estiver, o laço rodará ininterruptamente até ser obtido um valor válido\n",
        "  while (nota < 0) or (nota > 5):\n",
        "    nota = float(input(f'Nota inválida, insira novamente a nota da pessoa usuária {i}: '))\n",
        "\n",
        "print('Verificação feita. Todas as notas são válidas')"
      ],
      "metadata": {
        "colab": {
          "base_uri": "https://localhost:8080/",
          "height": 228
        },
        "id": "nORJ6J6jn3kh",
        "outputId": "36a8e6b5-44a5-4367-d981-d6363b0f736f"
      },
      "execution_count": 4,
      "outputs": [
        {
          "name": "stdout",
          "output_type": "stream",
          "text": [
            "Insira a nota da pessoa usuária 0:  \n"
          ]
        },
        {
          "output_type": "error",
          "ename": "ValueError",
          "evalue": "could not convert string to float: ' '",
          "traceback": [
            "\u001b[0;31m---------------------------------------------------------------------------\u001b[0m",
            "\u001b[0;31mValueError\u001b[0m                                Traceback (most recent call last)",
            "\u001b[0;32m<ipython-input-4-1663e519c257>\u001b[0m in \u001b[0;36m<cell line: 2>\u001b[0;34m()\u001b[0m\n\u001b[1;32m      1\u001b[0m \u001b[0;31m# laço para pegar as 15 notas\u001b[0m\u001b[0;34m\u001b[0m\u001b[0;34m\u001b[0m\u001b[0m\n\u001b[1;32m      2\u001b[0m \u001b[0;32mfor\u001b[0m \u001b[0mi\u001b[0m \u001b[0;32min\u001b[0m \u001b[0mrange\u001b[0m\u001b[0;34m(\u001b[0m\u001b[0;36m15\u001b[0m\u001b[0;34m)\u001b[0m\u001b[0;34m:\u001b[0m\u001b[0;34m\u001b[0m\u001b[0;34m\u001b[0m\u001b[0m\n\u001b[0;32m----> 3\u001b[0;31m   \u001b[0mnota\u001b[0m \u001b[0;34m=\u001b[0m \u001b[0mfloat\u001b[0m\u001b[0;34m(\u001b[0m\u001b[0minput\u001b[0m\u001b[0;34m(\u001b[0m\u001b[0;34mf'Insira a nota da pessoa usuária {i}: '\u001b[0m\u001b[0;34m)\u001b[0m\u001b[0;34m)\u001b[0m\u001b[0;34m\u001b[0m\u001b[0;34m\u001b[0m\u001b[0m\n\u001b[0m\u001b[1;32m      4\u001b[0m \u001b[0;34m\u001b[0m\u001b[0m\n\u001b[1;32m      5\u001b[0m   \u001b[0;31m# verifica se a nota está entre 0 e 5\u001b[0m\u001b[0;34m\u001b[0m\u001b[0;34m\u001b[0m\u001b[0m\n",
            "\u001b[0;31mValueError\u001b[0m: could not convert string to float: ' '"
          ]
        }
      ]
    },
    {
      "cell_type": "code",
      "source": [
        "# Solicitamos o número\n",
        "num = int(input(\"Digite o número: \"))\n",
        "\n",
        "# Assumimos que o número é primo até que se prove o contrário\n",
        "eh_primo = True\n",
        "\n",
        "# Números abaixo de 2 não são primos\n",
        "if num <= 1 :\n",
        "  eh_primo = False\n",
        "else:\n",
        "    for i in range(2, num):\n",
        "        # Se o número for divisível por qualquer número dentro deste intervalo,\n",
        "        # ele não é primo, portanto, mudamos a variável 'eh_primo' para False e saímos do loop.\n",
        "        if num % i == 0:\n",
        "            eh_primo = False\n",
        "            break\n",
        "\n",
        "# Verifica se 'eh_primo' ainda é True, o que significa que o número passou pelo loop\n",
        "# sem ser divisível por nenhum número além de 1 e ele mesmo.\n",
        "if eh_primo:\n",
        "    # Se for o caso, o número é primo.\n",
        "    print(f'O número {num} é primo')\n",
        "else:\n",
        "    # Caso contrário, o número não é primo.\n",
        "    print(f'O número {num} não é primo')\n",
        "\n"
      ],
      "metadata": {
        "colab": {
          "base_uri": "https://localhost:8080/"
        },
        "id": "t-7Jzu7LolPF",
        "outputId": "4a596294-0959-43de-ba12-ecfea745cb27"
      },
      "execution_count": 18,
      "outputs": [
        {
          "output_type": "stream",
          "name": "stdout",
          "text": [
            "Digite o número: 3\n",
            "O número 3 é primo\n"
          ]
        }
      ]
    },
    {
      "cell_type": "code",
      "source": [
        "# Coletamos as idades dos clientes\n",
        "idade = int(input('Informe a idade (ou um número negativo para encerrar): '))\n",
        "\n",
        "# Inicializamos as variáveis de contadores\n",
        "contador_0_25 = 0 # contador de idades entre 0 e 25\n",
        "contador_26_50 = 0 # contador de idades entre 26 e 50\n",
        "contador_51_75 = 0 # contador de idades entre 51 e 75\n",
        "contador_76_100 = 0 # contador de idades entre 76 e 100\n",
        "\n",
        "# nosso código executa sempre até o valor de idade for negativa\n",
        "while idade >= 0:\n",
        "    # contamos cada caso\n",
        "    if idade >= 0 and idade <= 25:\n",
        "        contador_0_25 += 1\n",
        "    elif idade >= 26 and idade <= 50:\n",
        "        contador_26_50 += 1\n",
        "    elif idade >= 51 and idade <= 75:\n",
        "        contador_51_75 += 1\n",
        "    elif idade >= 76 and idade <= 100:\n",
        "        contador_76_100 += 1\n",
        "\n",
        "    # Repetir o processo de entrada de dados até que seja digitado um número negativo\n",
        "    idade = int(input('Informe a idade (ou um número negativo para encerrar): '))\n",
        "\n",
        "# Mostramos os resultados\n",
        "print('Distribuição de idades:')\n",
        "print('[0-25]:', contador_0_25)\n",
        "print('[26-50]:', contador_26_50)\n",
        "print('[51-75]:', contador_51_75)\n",
        "print('[76-100]:', contador_76_100)"
      ],
      "metadata": {
        "colab": {
          "base_uri": "https://localhost:8080/"
        },
        "id": "5IQD1XKQt1C3",
        "outputId": "f177b1db-4f52-4838-aa9c-2b44a3b7bd0e"
      },
      "execution_count": 19,
      "outputs": [
        {
          "output_type": "stream",
          "name": "stdout",
          "text": [
            "Informe a idade (ou um número negativo para encerrar): 50\n",
            "Informe a idade (ou um número negativo para encerrar): -1\n",
            "Distribuição de idades:\n",
            "[0-25]: 0\n",
            "[26-50]: 1\n",
            "[51-75]: 0\n",
            "[76-100]: 0\n"
          ]
        }
      ]
    },
    {
      "cell_type": "code",
      "source": [
        "contador_0_25 =1\n",
        "\n",
        "for numero in range(26):  # contando de 0 até 25\n",
        "    contador_0_25 += 1    # aumenta o valor do contador em 1\n",
        "\n",
        "print(contador_0_25)\n",
        "print(numero)\n"
      ],
      "metadata": {
        "colab": {
          "base_uri": "https://localhost:8080/"
        },
        "id": "q5X8PMk7uegS",
        "outputId": "4b9a17c9-c9e5-45b7-adfe-4b72aaaa8178"
      },
      "execution_count": 26,
      "outputs": [
        {
          "output_type": "stream",
          "name": "stdout",
          "text": [
            "27\n",
            "25\n"
          ]
        }
      ]
    }
  ]
}